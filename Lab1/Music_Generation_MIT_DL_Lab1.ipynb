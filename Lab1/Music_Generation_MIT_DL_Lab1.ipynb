{
 "cells": [
  {
   "cell_type": "markdown",
   "metadata": {},
   "source": [
    "\n",
    "##### Dhia Elhak EZZEDDINI \n",
    "##### dhiaelhak.ezzeddini@supcom.tn\n",
    "CopyRight Information\n",
    "##### © MIT 6.S191: Introduction to Deep Learning\n",
    "##### http://introtodeeplearning.com"
   ]
  },
  {
   "cell_type": "code",
   "execution_count": null,
   "metadata": {
    "execution": {
     "iopub.execute_input": "2025-04-15T06:38:39.843916Z",
     "iopub.status.busy": "2025-04-15T06:38:39.843292Z",
     "iopub.status.idle": "2025-04-15T06:38:42.989802Z",
     "shell.execute_reply": "2025-04-15T06:38:42.988992Z",
     "shell.execute_reply.started": "2025-04-15T06:38:39.843890Z"
    },
    "trusted": true
   },
   "outputs": [],
   "source": [
    "!pip install comet_ml"
   ]
  },
  {
   "cell_type": "code",
   "execution_count": 22,
   "metadata": {
    "execution": {
     "iopub.execute_input": "2025-04-15T06:38:42.991751Z",
     "iopub.status.busy": "2025-04-15T06:38:42.991482Z",
     "iopub.status.idle": "2025-04-15T06:38:42.996379Z",
     "shell.execute_reply": "2025-04-15T06:38:42.995851Z",
     "shell.execute_reply.started": "2025-04-15T06:38:42.991727Z"
    },
    "id": "-PQ4wdASjSte",
    "trusted": true
   },
   "outputs": [],
   "source": [
    "import comet_ml\n",
    "COMET_API_KEY = \"eCllTwbltsuTdqcCgNTak6Uj2\"\n",
    "import torch\n",
    "import torch.nn as nn\n",
    "import torch.optim as optim\n",
    "import os\n",
    "os.environ['CUDA_LAUNCH_BLOCKING'] = '1'\n"
   ]
  },
  {
   "cell_type": "code",
   "execution_count": null,
   "metadata": {
    "execution": {
     "iopub.execute_input": "2025-04-15T06:38:42.998067Z",
     "iopub.status.busy": "2025-04-15T06:38:42.997448Z",
     "iopub.status.idle": "2025-04-15T06:38:45.174258Z",
     "shell.execute_reply": "2025-04-15T06:38:45.173175Z",
     "shell.execute_reply.started": "2025-04-15T06:38:42.998048Z"
    },
    "id": "S7q5ZfXQnmlQ",
    "trusted": true
   },
   "outputs": [],
   "source": [
    "import numpy as np\n",
    "import os\n",
    "import time\n",
    "import functools\n",
    "from IPython import display as ipythondisplay\n",
    "from tqdm import  tqdm\n",
    "from scipy.io.wavfile import write\n",
    "!apt-get install abcmidi timidity \n",
    "torch.cuda.is_available()"
   ]
  },
  {
   "cell_type": "code",
   "execution_count": null,
   "metadata": {
    "execution": {
     "iopub.execute_input": "2025-04-15T06:38:45.176748Z",
     "iopub.status.busy": "2025-04-15T06:38:45.176438Z",
     "iopub.status.idle": "2025-04-15T06:38:53.226068Z",
     "shell.execute_reply": "2025-04-15T06:38:53.225358Z",
     "shell.execute_reply.started": "2025-04-15T06:38:45.176724Z"
    },
    "id": "Pk1vkHHQlB2u",
    "trusted": true
   },
   "outputs": [],
   "source": [
    "!pip install mitdeeplearning --quiet\n",
    "\n",
    "import mitdeeplearning as mdl"
   ]
  },
  {
   "cell_type": "code",
   "execution_count": 25,
   "metadata": {
    "execution": {
     "iopub.execute_input": "2025-04-15T06:38:53.227375Z",
     "iopub.status.busy": "2025-04-15T06:38:53.226844Z",
     "iopub.status.idle": "2025-04-15T06:38:53.231556Z",
     "shell.execute_reply": "2025-04-15T06:38:53.230941Z",
     "shell.execute_reply.started": "2025-04-15T06:38:53.227338Z"
    },
    "id": "x-PpCr9AoQ5_",
    "trusted": true
   },
   "outputs": [],
   "source": [
    "assert torch.cuda.is_available(), \"Please enable GPU from runtime settings\"\n",
    "assert COMET_API_KEY != \"\", \"Please Provide your COMET API key\""
   ]
  },
  {
   "cell_type": "code",
   "execution_count": 26,
   "metadata": {
    "execution": {
     "iopub.execute_input": "2025-04-15T06:38:53.232734Z",
     "iopub.status.busy": "2025-04-15T06:38:53.232422Z",
     "iopub.status.idle": "2025-04-15T06:38:53.265472Z",
     "shell.execute_reply": "2025-04-15T06:38:53.264877Z",
     "shell.execute_reply.started": "2025-04-15T06:38:53.232716Z"
    },
    "id": "15U5bIqk7pyo",
    "scrolled": true,
    "trusted": true
   },
   "outputs": [
    {
     "name": "stdout",
     "output_type": "stream",
     "text": [
      "Found 817 songs in text\n",
      "\n",
      "example song : \n",
      "X:1\n",
      "T:Alexander's\n",
      "Z: id:dc-hornpipe-1\n",
      "M:C|\n",
      "L:1/8\n",
      "K:D Major\n",
      "(3ABc|dAFA DFAd|fdcd FAdf|gfge fefd|(3efe (3dcB A2 (3ABc|!\n",
      "dAFA DFAd|fdcd FAdf|gfge fefd|(3efe dc d2:|!\n",
      "AG|FAdA FAdA|GBdB GBdB|Acec Acec|dfaf gecA|!\n",
      "FAdA FAdA|GBdB GBdB|Aceg fefd|(3efe dc d2:|!\n"
     ]
    }
   ],
   "source": [
    "\n",
    "songs_dataset = mdl.lab1.load_training_data()\n",
    "\n",
    "ex = songs_dataset[0]\n",
    "print(\"\\nexample song : \")\n",
    "print(ex)\n"
   ]
  },
  {
   "cell_type": "code",
   "execution_count": null,
   "metadata": {
    "colab": {
     "background_save": true
    },
    "execution": {
     "iopub.execute_input": "2025-04-15T06:38:53.266726Z",
     "iopub.status.busy": "2025-04-15T06:38:53.266249Z",
     "iopub.status.idle": "2025-04-15T06:38:54.427072Z",
     "shell.execute_reply": "2025-04-15T06:38:54.425799Z",
     "shell.execute_reply.started": "2025-04-15T06:38:53.266698Z"
    },
    "id": "CZWSdKCz7wUn",
    "trusted": true
   },
   "outputs": [],
   "source": [
    "# Playing the first song in the Dataset\n",
    "mdl.lab1.play_song(ex)"
   ]
  },
  {
   "cell_type": "code",
   "execution_count": 28,
   "metadata": {
    "colab": {
     "background_save": true
    },
    "execution": {
     "iopub.execute_input": "2025-04-15T06:38:54.428505Z",
     "iopub.status.busy": "2025-04-15T06:38:54.428140Z",
     "iopub.status.idle": "2025-04-15T06:38:54.439785Z",
     "shell.execute_reply": "2025-04-15T06:38:54.439015Z",
     "shell.execute_reply.started": "2025-04-15T06:38:54.428471Z"
    },
    "id": "srZoOv889n0v",
    "trusted": true
   },
   "outputs": [
    {
     "name": "stdout",
     "output_type": "stream",
     "text": [
      "83 unique characters in the dataset\n"
     ]
    }
   ],
   "source": [
    "## Joining all songs into a single string\n",
    "all_songs = \"\\n\\n\".join(songs_dataset)\n",
    "\n",
    "## finding all unique characters in the joined list\n",
    "vocab = sorted(set(all_songs))\n",
    "print(len(vocab) , \"unique characters in the dataset\")"
   ]
  },
  {
   "cell_type": "markdown",
   "metadata": {
    "id": "vdMPKC5XFYkx"
   },
   "source": [
    "sequence of characters ==> RNN Model ==> Output : next character at each time step\n",
    "\n",
    "\n",
    "Text Vectorization :"
   ]
  },
  {
   "cell_type": "code",
   "execution_count": 29,
   "metadata": {
    "colab": {
     "background_save": true
    },
    "execution": {
     "iopub.execute_input": "2025-04-15T06:38:54.441024Z",
     "iopub.status.busy": "2025-04-15T06:38:54.440730Z",
     "iopub.status.idle": "2025-04-15T06:38:54.459208Z",
     "shell.execute_reply": "2025-04-15T06:38:54.458439Z",
     "shell.execute_reply.started": "2025-04-15T06:38:54.440994Z"
    },
    "id": "x4vcBe8qFjvJ",
    "trusted": true
   },
   "outputs": [],
   "source": [
    "### defining a numerical representation of the text ###\n",
    "\n",
    "# creating a mapping from character to index #\n",
    "\n",
    "char2idx = {u: i for i,u in enumerate(vocab)} # ==> integer representation of each character\n",
    "\n",
    "# creating a mapping from character to index #\n",
    "\n",
    "idx2char = np.array(vocab)"
   ]
  },
  {
   "cell_type": "code",
   "execution_count": 30,
   "metadata": {
    "colab": {
     "background_save": true
    },
    "execution": {
     "iopub.execute_input": "2025-04-15T06:38:54.462478Z",
     "iopub.status.busy": "2025-04-15T06:38:54.462237Z",
     "iopub.status.idle": "2025-04-15T06:38:54.471306Z",
     "shell.execute_reply": "2025-04-15T06:38:54.470474Z",
     "shell.execute_reply.started": "2025-04-15T06:38:54.462459Z"
    },
    "id": "xv36Od-yGlZE",
    "trusted": true
   },
   "outputs": [
    {
     "name": "stdout",
     "output_type": "stream",
     "text": [
      "{\n",
      " '\\n' :   0,\n",
      " ' '  :   1,\n",
      " '!'  :   2,\n",
      " '\"'  :   3,\n",
      " '#'  :   4,\n",
      " \"'\"  :   5,\n",
      " '('  :   6,\n",
      " ')'  :   7,\n",
      " ','  :   8,\n",
      " '-'  :   9,\n",
      " '.'  :  10,\n",
      " '/'  :  11,\n",
      " '0'  :  12,\n",
      " '1'  :  13,\n",
      " '2'  :  14,\n",
      " '3'  :  15,\n",
      " '4'  :  16,\n",
      " '5'  :  17,\n",
      " '6'  :  18,\n",
      " '7'  :  19,\n",
      " ...\n",
      "\n"
     ]
    }
   ],
   "source": [
    "\n",
    "## visualizing the character mapping\n",
    "print('{')\n",
    "for char, _ in zip(char2idx, range(20)) :\n",
    "  print(' {:4s} : {:3d},'.format(repr(char),char2idx[char]))\n",
    "print(' ...\\n')\n"
   ]
  },
  {
   "cell_type": "code",
   "execution_count": 31,
   "metadata": {
    "colab": {
     "background_save": true
    },
    "execution": {
     "iopub.execute_input": "2025-04-15T06:38:54.472390Z",
     "iopub.status.busy": "2025-04-15T06:38:54.472095Z",
     "iopub.status.idle": "2025-04-15T06:38:54.484870Z",
     "shell.execute_reply": "2025-04-15T06:38:54.484201Z",
     "shell.execute_reply.started": "2025-04-15T06:38:54.472364Z"
    },
    "id": "mE5iM7YlHRt-",
    "trusted": true
   },
   "outputs": [],
   "source": [
    "### Vectorizing the songs strings ###\n",
    "\n",
    "def Vectorizing_string(string) :\n",
    "  n = len(string)\n",
    "  l = []\n",
    "  for char in string :\n",
    "    num = char2idx[char]\n",
    "    l.append(num)\n",
    "  nparray = np.array(l,dtype=int)\n",
    "  return nparray\n",
    "assert isinstance(Vectorizing_string(ex), np.ndarray) , \"returned result should be a numpy array\"\n"
   ]
  },
  {
   "cell_type": "code",
   "execution_count": 32,
   "metadata": {
    "colab": {
     "background_save": true
    },
    "execution": {
     "iopub.execute_input": "2025-04-15T06:38:54.485788Z",
     "iopub.status.busy": "2025-04-15T06:38:54.485606Z",
     "iopub.status.idle": "2025-04-15T06:38:54.516390Z",
     "shell.execute_reply": "2025-04-15T06:38:54.515674Z",
     "shell.execute_reply.started": "2025-04-15T06:38:54.485774Z"
    },
    "id": "VUxJ_XhVHkUg",
    "trusted": true
   },
   "outputs": [
    {
     "name": "stdout",
     "output_type": "stream",
     "text": [
      "\"X:1\\nT:Alexander's\\nZ:\" ------ characters mapped to int -------> [49 22 13  0 45 22 26 67 60 79 56 69 59 60 73  5 74  0 51 22]\n",
      "[49 22 13  0 45 22 26 67 60 79 56 69 59 60 73  5 74  0 51 22  1 64 59 22\n",
      " 59 58  9 63 70 73 69 71 64 71 60  9 13  0 38 22 28 82  0 37 22 13 11 20\n",
      "  0 36 22 29  1 38 56 65 70 73  0  6 15 26 27 58 82 59 26 31 26  1 29 31\n",
      " 26 59 82 61 59 58 59  1 31 26 59 61 82 62 61 62 60  1 61 60 61 59 82  6\n",
      " 15 60 61 60]\n",
      "200679\n"
     ]
    }
   ],
   "source": [
    "\n",
    "vectorized_songs = Vectorizing_string(all_songs)\n",
    "print('{} ------ characters mapped to int -------> {}'.format(repr(all_songs[:20]),vectorized_songs[:20]))\n",
    "print(vectorized_songs[0:100])\n",
    "print(len(vectorized_songs))"
   ]
  },
  {
   "cell_type": "code",
   "execution_count": 71,
   "metadata": {
    "execution": {
     "iopub.execute_input": "2025-04-15T06:59:43.557630Z",
     "iopub.status.busy": "2025-04-15T06:59:43.557336Z",
     "iopub.status.idle": "2025-04-15T06:59:43.598234Z",
     "shell.execute_reply": "2025-04-15T06:59:43.597528Z",
     "shell.execute_reply.started": "2025-04-15T06:59:43.557608Z"
    },
    "trusted": true
   },
   "outputs": [],
   "source": [
    "import random\n",
    "\n",
    "def augment_token_stream(tokens, num_segments=4):\n",
    "    \"\"\"\n",
    "    Augments a single long token sequence by slicing, reversing, and shuffling.\n",
    "\n",
    "    Args:\n",
    "        tokens (list[int]): The full token stream.\n",
    "        num_segments (int): How many segments to divide into.\n",
    "\n",
    "    Returns:\n",
    "        list[int]: Augmented token stream.\n",
    "    \"\"\"\n",
    "    if num_segments < 2 or len(tokens) < num_segments:\n",
    "        return tokens  # Not enough tokens\n",
    "\n",
    "    segment_len = len(tokens) // num_segments\n",
    "    segments = [tokens[i*segment_len : (i+1)*segment_len] for i in range(num_segments)]\n",
    "\n",
    "    # Add any leftover tokens to the last segment\n",
    "    leftover = tokens[num_segments * segment_len:]\n",
    "    if leftover :\n",
    "        segments[-1].extend(leftover)\n",
    "\n",
    "    # Reverse some segments randomly\n",
    "    segments = [seg[::-1] if random.random() < 0.5 else seg for seg in segments]\n",
    "\n",
    "    # Shuffle segment order\n",
    "    random.shuffle(segments)\n",
    "\n",
    "    # Flatten and return\n",
    "    return [token for seg in segments for token in seg]\n",
    "\n",
    "\n",
    "augmented_song = augment_token_stream(vectorized_songs.tolist())\n",
    "\n",
    "for i in vectorized_songs : \n",
    "    augmented_song.append(i)\n",
    "    \n",
    "augmented_song = augment_token_stream(vectorized_songs.tolist())\n",
    "\n"
   ]
  },
  {
   "cell_type": "code",
   "execution_count": 72,
   "metadata": {
    "execution": {
     "iopub.execute_input": "2025-04-15T06:59:59.500426Z",
     "iopub.status.busy": "2025-04-15T06:59:59.499940Z",
     "iopub.status.idle": "2025-04-15T06:59:59.504271Z",
     "shell.execute_reply": "2025-04-15T06:59:59.503445Z",
     "shell.execute_reply.started": "2025-04-15T06:59:59.500404Z"
    },
    "trusted": true
   },
   "outputs": [],
   "source": [
    "train_songs = vectorized_songs[0:int(len(vectorized_songs)*0.7)]\n",
    "val_songs = vectorized_songs[int(len(vectorized_songs)*0.7):int(len(vectorized_songs))]"
   ]
  },
  {
   "cell_type": "markdown",
   "metadata": {
    "id": "IaLQ4NJ_NosI"
   },
   "source": [
    "  Creating training examples and targets"
   ]
  },
  {
   "cell_type": "code",
   "execution_count": 35,
   "metadata": {
    "colab": {
     "background_save": true
    },
    "execution": {
     "iopub.execute_input": "2025-04-15T06:38:54.543334Z",
     "iopub.status.busy": "2025-04-15T06:38:54.543131Z",
     "iopub.status.idle": "2025-04-15T06:38:54.554852Z",
     "shell.execute_reply": "2025-04-15T06:38:54.554117Z",
     "shell.execute_reply.started": "2025-04-15T06:38:54.543319Z"
    },
    "id": "qowvLUBoNuUH",
    "trusted": true
   },
   "outputs": [],
   "source": [
    "## Batch function definition to create training examples ##\n",
    "\n",
    "def get_batch(vectorized_songs , seq_len, batch_size) :\n",
    "  n = len(vectorized_songs) - 1\n",
    "  #print(n)\n",
    "  idx = np.random.choice(n - seq_len , batch_size)\n",
    "  #print(idx)\n",
    "  ## list of input sequences making the batch\n",
    "  input_batch =  [vectorized_songs[i : i + seq_len] for i in idx]\n",
    "  ## list of target sequences corresponding to the input sequences\n",
    "  output_batch = [vectorized_songs[i+1 : i + seq_len+1] for i in idx]\n",
    "\n",
    "  ## converting the input and output lists into tensors\n",
    "  x_batch  = torch.tensor(input_batch,dtype=torch.long)\n",
    "  y_batch  = torch.tensor(output_batch,dtype=torch.long)\n",
    "\n",
    "  return x_batch , y_batch"
   ]
  },
  {
   "cell_type": "code",
   "execution_count": 66,
   "metadata": {
    "colab": {
     "background_save": true
    },
    "execution": {
     "iopub.execute_input": "2025-04-15T06:57:25.997856Z",
     "iopub.status.busy": "2025-04-15T06:57:25.997034Z",
     "iopub.status.idle": "2025-04-15T06:57:26.005094Z",
     "shell.execute_reply": "2025-04-15T06:57:26.004384Z",
     "shell.execute_reply.started": "2025-04-15T06:57:25.997826Z"
    },
    "id": "33G-BhighWEs",
    "trusted": true
   },
   "outputs": [
    {
     "name": "stdout",
     "output_type": "stream",
     "text": [
      "Batch function works correctly!\n",
      "tensor([[32, 31,  1, 29, 31, 11, 29, 11, 82, 28],\n",
      "        [29, 82, 32, 15,  1, 32, 14, 22, 82,  2]])\n",
      "tensor([[31,  1, 29, 31, 11, 29, 11, 82, 28, 11],\n",
      "        [82, 32, 15,  1, 32, 14, 22, 82,  2,  0]])\n"
     ]
    }
   ],
   "source": [
    "### Testing the get_batch function :\n",
    "test_args = (vectorized_songs,10,2)\n",
    "x_batch , y_batch = get_batch(*test_args)\n",
    "assert x_batch.shape == (2, 10), \"x_batch shape is incorrect\"\n",
    "assert y_batch.shape == (2, 10), \"y_batch shape is incorrect\"\n",
    "print(\"Batch function works correctly!\")\n",
    "print(x_batch)\n",
    "print(y_batch)"
   ]
  },
  {
   "cell_type": "code",
   "execution_count": 37,
   "metadata": {
    "colab": {
     "background_save": true
    },
    "execution": {
     "iopub.execute_input": "2025-04-15T06:38:54.570923Z",
     "iopub.status.busy": "2025-04-15T06:38:54.570700Z",
     "iopub.status.idle": "2025-04-15T06:38:54.579991Z",
     "shell.execute_reply": "2025-04-15T06:38:54.579270Z",
     "shell.execute_reply.started": "2025-04-15T06:38:54.570905Z"
    },
    "id": "VwiOZj1vjroW",
    "trusted": true
   },
   "outputs": [
    {
     "name": "stdout",
     "output_type": "stream",
     "text": [
      "tensor([[45, 22, 29, 70, 69]])\n",
      "tensor([[22, 29, 70, 69, 60]])\n",
      "Step   0\n",
      " input: 45 ('T')\n",
      "  expected output : 22 (':')\n",
      "Step   1\n",
      " input: 22 (':')\n",
      "  expected output : 29 ('D')\n",
      "Step   2\n",
      " input: 29 ('D')\n",
      "  expected output : 70 ('o')\n",
      "Step   3\n",
      " input: 70 ('o')\n",
      "  expected output : 69 ('n')\n",
      "Step   4\n",
      " input: 69 ('n')\n",
      "  expected output : 60 ('e')\n"
     ]
    }
   ],
   "source": [
    "x_batch,y_batch = get_batch(vectorized_songs,5,1)\n",
    "print(x_batch)\n",
    "print(y_batch)\n",
    "for i ,(input_idx,target_idx) in enumerate(zip(x_batch[0],y_batch[0])) :\n",
    "  print(\"Step {:3d}\".format(i))\n",
    "  print(\" input: {} ({:s})\".format(input_idx,repr(idx2char[input_idx.item()])))\n",
    "  print(\"  expected output : {} ({:s})\".format(target_idx , repr(idx2char[target_idx.item()])))"
   ]
  },
  {
   "cell_type": "markdown",
   "metadata": {
    "id": "81jmSktMmD4y"
   },
   "source": [
    "Recurrent Neural Network Model"
   ]
  },
  {
   "cell_type": "code",
   "execution_count": 38,
   "metadata": {
    "colab": {
     "background_save": true
    },
    "execution": {
     "iopub.execute_input": "2025-04-15T06:38:54.581021Z",
     "iopub.status.busy": "2025-04-15T06:38:54.580735Z",
     "iopub.status.idle": "2025-04-15T06:38:54.588980Z",
     "shell.execute_reply": "2025-04-15T06:38:54.588352Z",
     "shell.execute_reply.started": "2025-04-15T06:38:54.581003Z"
    },
    "id": "Fyzc5hX_mKXA",
    "trusted": true
   },
   "outputs": [],
   "source": [
    "## Defining the RNN Model ##\n",
    "class LSTMModel(nn.Module):\n",
    "\n",
    "  def __init__(self,vocab_size,embedding_dim,hidden_size) :\n",
    "    super(LSTMModel,self).__init__()\n",
    "    self.hidden_size = hidden_size\n",
    "\n",
    "    #### defining each of the network layers :\n",
    "\n",
    "    # Embedding layer : transform indices into dense vectors of a fixed embedding size\n",
    "    self.embedding = nn.Embedding(vocab_size,embedding_dim)\n",
    "\n",
    "    # LSTM layer\n",
    "    self.lstm = nn.LSTM(embedding_dim,hidden_size,batch_first=True)\n",
    "\n",
    "    # Linear layer : fully connected ==> transforms LSTM output into the vocabulary\n",
    "    self.fc=nn.Linear(hidden_size,vocab_size)\n",
    "\n",
    "\n",
    "  def init_hidden(self,batch_size,device) :\n",
    "    return (torch.zeros(1,batch_size,self.hidden_size).to(device),\n",
    "           (torch.zeros(1,batch_size,self.hidden_size).to(device)))\n",
    "\n",
    "\n",
    "  def forward(self , x , state=None , return_state=False) :\n",
    "    x = self.embedding(x)\n",
    "    if state is None :\n",
    "      state = self.init_hidden(x.size(0),x.device)\n",
    "    out,state=self.lstm(x,state)\n",
    "    out = self.fc(out)\n",
    "    return out if not return_state else (out,state)"
   ]
  },
  {
   "cell_type": "code",
   "execution_count": 39,
   "metadata": {
    "execution": {
     "iopub.execute_input": "2025-04-15T06:38:54.590029Z",
     "iopub.status.busy": "2025-04-15T06:38:54.589764Z",
     "iopub.status.idle": "2025-04-15T06:38:54.825519Z",
     "shell.execute_reply": "2025-04-15T06:38:54.824719Z",
     "shell.execute_reply.started": "2025-04-15T06:38:54.590006Z"
    },
    "id": "JZ-xzAF6p6tt",
    "trusted": true
   },
   "outputs": [
    {
     "name": "stdout",
     "output_type": "stream",
     "text": [
      "LSTMModel(\n",
      "  (embedding): Embedding(83, 256)\n",
      "  (lstm): LSTM(256, 1024, batch_first=True)\n",
      "  (fc): Linear(in_features=1024, out_features=83, bias=True)\n",
      ")\n"
     ]
    }
   ],
   "source": [
    "### Initializing the model\n",
    "\n",
    "vocab_size = len(vocab)\n",
    "embedding_dim = 256\n",
    "hidden_size=1024\n",
    "batch_size=8\n",
    "\n",
    "\n",
    "device = torch.device(\"cuda\" if torch.cuda.is_available() else \"cpu\") \n",
    "model = LSTMModel(vocab_size,embedding_dim,hidden_size).to(device)\n",
    "\n",
    "## summary of the model\n",
    "print(model)\n"
   ]
  },
  {
   "cell_type": "code",
   "execution_count": 40,
   "metadata": {
    "execution": {
     "iopub.execute_input": "2025-04-15T06:38:54.827028Z",
     "iopub.status.busy": "2025-04-15T06:38:54.826421Z",
     "iopub.status.idle": "2025-04-15T06:38:55.057548Z",
     "shell.execute_reply": "2025-04-15T06:38:55.056928Z",
     "shell.execute_reply.started": "2025-04-15T06:38:54.827006Z"
    },
    "id": "uxbAAVvvrEjL",
    "trusted": true
   },
   "outputs": [
    {
     "name": "stdout",
     "output_type": "stream",
     "text": [
      "Input shape     :   torch.Size([32, 50])       # (batch_size,sequence_length)\n",
      "Predection size :   torch.Size([32, 50, 83])   # (batch_size,sequence_length,vocab_size)\n"
     ]
    }
   ],
   "source": [
    "### Testing out the model\n",
    "\n",
    "x,y = get_batch(vectorized_songs,50,32)\n",
    "x = x.to(device)\n",
    "y = y.to(device)\n",
    "pred = model(x)\n",
    "\n",
    "print(\"Input shape     :  \",x.shape ,\"      # (batch_size,sequence_length)\")\n",
    "print(\"Predection size :  \",pred.shape,\"  # (batch_size,sequence_length,vocab_size)\")\n"
   ]
  },
  {
   "cell_type": "code",
   "execution_count": 41,
   "metadata": {
    "execution": {
     "iopub.execute_input": "2025-04-15T06:38:55.058509Z",
     "iopub.status.busy": "2025-04-15T06:38:55.058280Z",
     "iopub.status.idle": "2025-04-15T06:38:55.397209Z",
     "shell.execute_reply": "2025-04-15T06:38:55.396593Z",
     "shell.execute_reply.started": "2025-04-15T06:38:55.058484Z"
    },
    "id": "EE0ihQS-3GE-",
    "trusted": true
   },
   "outputs": [
    {
     "data": {
      "text/plain": [
       "array([18,  8, 43, 78, 13, 12, 42, 18,  5, 30, 78, 59, 53, 37, 36, 25, 66,\n",
       "        5,  0, 55, 53, 62, 32, 64, 27, 33, 80, 78,  4, 49, 67, 35, 82, 27,\n",
       "       73, 10, 17, 30,  8, 38, 30, 33, 70, 36, 80, 63, 73,  5, 32, 58])"
      ]
     },
     "execution_count": 41,
     "metadata": {},
     "output_type": "execute_result"
    }
   ],
   "source": [
    "sampled_indices = torch.multinomial(torch.softmax(pred[0],dim=-1),num_samples=1)\n",
    "sampled_indices = sampled_indices.squeeze(-1).cpu().numpy()\n",
    "sampled_indices"
   ]
  },
  {
   "cell_type": "code",
   "execution_count": 42,
   "metadata": {
    "execution": {
     "iopub.execute_input": "2025-04-15T06:38:55.398050Z",
     "iopub.status.busy": "2025-04-15T06:38:55.397882Z",
     "iopub.status.idle": "2025-04-15T06:38:55.413935Z",
     "shell.execute_reply": "2025-04-15T06:38:55.413332Z",
     "shell.execute_reply.started": "2025-04-15T06:38:55.398037Z"
    },
    "id": "71m3YMy_3OZu",
    "trusted": true
   },
   "outputs": [
    {
     "name": "stdout",
     "output_type": "stream",
     "text": [
      "Input: \n",
      " 'd2 f2|e4 d2|!\\nde fg a2|a2 b2 g2|f3 g e2|d4 f2|gf e'\n",
      "\n",
      "Next Char Predections: \n",
      " \"6,Rw10Q6'Ewd]LK>k'\\n_]gGiBHyw#XlJ|Br.5E,MEHoKyhr'Gc\"\n"
     ]
    }
   ],
   "source": [
    "print(\"Input: \\n\",repr((\"\".join(idx2char[x[0].cpu()]))))\n",
    "print()\n",
    "print(\"Next Char Predections: \\n\",repr(\"\".join(idx2char[sampled_indices]))) "
   ]
  },
  {
   "cell_type": "markdown",
   "metadata": {
    "id": "cQ_bKxge4FOI"
   },
   "source": [
    "Training the Network"
   ]
  },
  {
   "cell_type": "code",
   "execution_count": 43,
   "metadata": {
    "execution": {
     "iopub.execute_input": "2025-04-15T06:38:55.415114Z",
     "iopub.status.busy": "2025-04-15T06:38:55.414690Z",
     "iopub.status.idle": "2025-04-15T06:38:55.430370Z",
     "shell.execute_reply": "2025-04-15T06:38:55.429756Z",
     "shell.execute_reply.started": "2025-04-15T06:38:55.415088Z"
    },
    "id": "10y4crjj4IZY",
    "trusted": true
   },
   "outputs": [],
   "source": [
    "### Defining the loss function ###\n",
    "\n",
    "cross_entropy = nn.CrossEntropyLoss()\n",
    "def compute_loss(labels,logits) :\n",
    "  batched_labels = labels.view(-1)\n",
    "  batched_logits = logits.view(-1,logits.shape[-1])\n",
    "  loss = cross_entropy(batched_logits,batched_labels)\n",
    "\n",
    "    \n",
    "  return loss"
   ]
  },
  {
   "cell_type": "code",
   "execution_count": 44,
   "metadata": {
    "execution": {
     "iopub.execute_input": "2025-04-15T06:38:55.431262Z",
     "iopub.status.busy": "2025-04-15T06:38:55.431066Z",
     "iopub.status.idle": "2025-04-15T06:38:55.503167Z",
     "shell.execute_reply": "2025-04-15T06:38:55.502351Z",
     "shell.execute_reply.started": "2025-04-15T06:38:55.431247Z"
    },
    "id": "bvAxv8IB6n0o",
    "trusted": true
   },
   "outputs": [
    {
     "name": "stdout",
     "output_type": "stream",
     "text": [
      "Prediction shape: torch.Size([32, 50, 83]) # (batch_size, sequence_length, vocab_size)\n",
      "scalar_loss: 4.416324615478516\n"
     ]
    }
   ],
   "source": [
    "\n",
    "ex_batch_loss = compute_loss(y,pred)\n",
    "\n",
    "print(f\"Prediction shape: {pred.shape} # (batch_size, sequence_length, vocab_size)\")\n",
    "print(f\"scalar_loss: {ex_batch_loss.mean().item()}\")"
   ]
  },
  {
   "cell_type": "code",
   "execution_count": 57,
   "metadata": {
    "execution": {
     "iopub.execute_input": "2025-04-15T06:46:09.841778Z",
     "iopub.status.busy": "2025-04-15T06:46:09.840952Z",
     "iopub.status.idle": "2025-04-15T06:46:09.847411Z",
     "shell.execute_reply": "2025-04-15T06:46:09.846601Z",
     "shell.execute_reply.started": "2025-04-15T06:46:09.841741Z"
    },
    "id": "Nb2rEq9F6sQz",
    "trusted": true
   },
   "outputs": [],
   "source": [
    "### Hyperparameter setting and optimization ###\n",
    "\n",
    "vocab_size = len(vocab)\n",
    "\n",
    "## Model parameters :\n",
    "params = dict(\n",
    "    num_training_iter  = 7000,\n",
    "    batch_size = 8 ,\n",
    "    seq_len = 100,\n",
    "    learning_rate = .005,\n",
    "    embedding_dim = 256 ,\n",
    "    hidden_size = 1024\n",
    ")\n",
    "\n",
    "# checkpoints location  :\n",
    "check_dir =\"./training_checkpoints\"\n",
    "checkpoint_prefix = os.path.join(check_dir,\"my_ckpt\")\n",
    "os.makedirs(check_dir,exist_ok=True)\n"
   ]
  },
  {
   "cell_type": "code",
   "execution_count": 46,
   "metadata": {
    "execution": {
     "iopub.execute_input": "2025-04-15T06:38:55.510387Z",
     "iopub.status.busy": "2025-04-15T06:38:55.510149Z",
     "iopub.status.idle": "2025-04-15T06:38:55.522216Z",
     "shell.execute_reply": "2025-04-15T06:38:55.521604Z",
     "shell.execute_reply.started": "2025-04-15T06:38:55.510371Z"
    },
    "id": "uOc0xWYE5wo3",
    "trusted": true
   },
   "outputs": [],
   "source": [
    "##### Creating a Comet experiment to track our training run\n",
    "def create_exp():\n",
    "  if 'experiment' in locals():\n",
    "    experiment.end()\n",
    "\n",
    "  experiment = comet_ml.Experiment(\n",
    "      api_key = COMET_API_KEY,\n",
    "      project_name = \"Music_Gen_lab\"\n",
    "      )\n",
    "  for param , value in params.items() :\n",
    "    experiment.log_parameter(param , value)\n",
    "  experiment.flush()\n",
    "  return experiment"
   ]
  },
  {
   "cell_type": "code",
   "execution_count": 47,
   "metadata": {
    "execution": {
     "iopub.execute_input": "2025-04-15T06:38:55.523118Z",
     "iopub.status.busy": "2025-04-15T06:38:55.522913Z",
     "iopub.status.idle": "2025-04-15T06:38:55.538044Z",
     "shell.execute_reply": "2025-04-15T06:38:55.537350Z",
     "shell.execute_reply.started": "2025-04-15T06:38:55.523099Z"
    },
    "trusted": true
   },
   "outputs": [],
   "source": [
    "###### adding more features to the code :\n",
    "\n",
    "## evaluation\n",
    "\n",
    "def evaluate_model(model,val_data , params) : \n",
    "    model.eval()\n",
    "    val_losses = []\n",
    "    with torch.no_grad():\n",
    "        for _ in range(10):\n",
    "            x_val , y_val = get_batch(val_data,params[\"seq_len\"],params[\"batch_size\"])\n",
    "            x_val = torch.tensor(x_val , dtype=torch.long).to(device)\n",
    "            y_val = torch.tensor(y_val , dtype=torch.long).to(device)\n",
    "\n",
    "            yhat = model(x_val)\n",
    "            loss = compute_loss(y_val , yhat)\n",
    "            val_losses.append(loss.item())\n",
    "\n",
    "    return sum(val_losses)/len(val_losses)\n",
    "    "
   ]
  },
  {
   "cell_type": "code",
   "execution_count": 48,
   "metadata": {
    "execution": {
     "iopub.execute_input": "2025-04-15T06:38:55.541506Z",
     "iopub.status.busy": "2025-04-15T06:38:55.541258Z",
     "iopub.status.idle": "2025-04-15T06:38:55.551550Z",
     "shell.execute_reply": "2025-04-15T06:38:55.550875Z",
     "shell.execute_reply.started": "2025-04-15T06:38:55.541488Z"
    },
    "trusted": true
   },
   "outputs": [],
   "source": [
    "class EarlyStopping:\n",
    "    def __init__(self,patience=5) : \n",
    "        self.patience = patience\n",
    "        self.counter = 0\n",
    "        self.best_loss = float('inf')\n",
    "        self.early_stop = False\n",
    "    def step(self,val_loss):\n",
    "        if val_loss < self.best_loss : \n",
    "            self.best_loss = val_loss\n",
    "            self.counter = 0\n",
    "        else : \n",
    "            self.counter +=1\n",
    "            if self.counter >= self.patience : \n",
    "                self.early_stop = True\n",
    "    "
   ]
  },
  {
   "cell_type": "code",
   "execution_count": 73,
   "metadata": {
    "colab": {
     "background_save": true
    },
    "execution": {
     "iopub.execute_input": "2025-04-15T07:00:08.736853Z",
     "iopub.status.busy": "2025-04-15T07:00:08.736236Z",
     "iopub.status.idle": "2025-04-15T07:02:38.315328Z",
     "shell.execute_reply": "2025-04-15T07:02:38.314626Z",
     "shell.execute_reply.started": "2025-04-15T07:00:08.736828Z"
    },
    "id": "vqS-gWe-9N44",
    "trusted": true
   },
   "outputs": [
    {
     "data": {
      "image/png": "[encoded data removed]",
      "text/plain": [
       "<Figure size 640x480 with 1 Axes>"
      ]
     },
     "metadata": {},
     "output_type": "display_data"
    },
    {
     "name": "stderr",
     "output_type": "stream",
     "text": [
      "100%|██████████| 875/875 [00:23<00:00, 36.57it/s]\n"
     ]
    },
    {
     "name": "stdout",
     "output_type": "stream",
     "text": [
      "Validation Loss after epoch6:1.6290\n",
      "Early stopping triggered!\n"
     ]
    },
    {
     "data": {
      "image/png": "[encoded data removed]",
      "text/plain": [
       "<Figure size 640x480 with 1 Axes>"
      ]
     },
     "metadata": {},
     "output_type": "display_data"
    }
   ],
   "source": [
    "### Defining Optimizer and Training operation ###\n",
    "\n",
    "model = LSTMModel(vocab_size,params['embedding_dim'],params['hidden_size'])\n",
    "model.to(device)\n",
    "optimizer = optim.Adam(model.parameters(),lr=params['learning_rate'])\n",
    "\n",
    "\n",
    "early_stopper = EarlyStopping(patience=5)\n",
    "scheduler = torch.optim.lr_scheduler.ReduceLROnPlateau(optimizer,mode=\"min\",factor=0.5,patience=2,verbose=True)\n",
    "\n",
    "def train_step(x,y) :\n",
    "  # model mode to train\n",
    "  model.train()\n",
    "  # Zero gradient for each step\n",
    "  optimizer.zero_grad()\n",
    "  # Forward pass\n",
    "  y_hat = model(x)\n",
    "  # Compute the loss\n",
    "  loss = compute_loss(y,y_hat)\n",
    "  # Backward steps\n",
    "  loss.backward()\n",
    "  optimizer.step()\n",
    "  return loss\n",
    "\n",
    "##########################\n",
    "#### Start Training ######\n",
    "##########################\n",
    "\n",
    "num_epochs = 8\n",
    "iters_per_epoch = params[\"num_training_iter\"]//num_epochs\n",
    "\n",
    "hist = []\n",
    "plotter = mdl.util.PeriodicPlotter(sec=2,xlabel='Iterations',ylabel='Loss')\n",
    "experiment = create_exp()\n",
    "\n",
    "if hasattr(tqdm, '_instances') : tqdm._instances.clear()\n",
    "for epoch in range(num_epochs):\n",
    "    print(f\"Epoch {epoch + 1}/{num_epochs}\")\n",
    "    for iter in tqdm(range(iters_per_epoch)):\n",
    "        x_batch,y_batch = get_batch(train_songs,params['seq_len'],params['batch_size'])\n",
    "        x_batch = torch.tensor(x_batch, dtype=torch.long).to(device)\n",
    "        y_batch = torch.tensor(y_batch, dtype=torch.long).to(device)\n",
    "        loss = train_step(x_batch,y_batch)\n",
    "        global_iter = epoch*iters_per_epoch + iter\n",
    "        experiment.log_metric(\"loss\" ,loss.item(),step=global_iter)\n",
    "\n",
    "        hist.append(loss.item())\n",
    "        plotter.plot(hist)\n",
    "\n",
    "        if global_iter%100==0:\n",
    "            torch.save(model.state_dict(),checkpoint_prefix)\n",
    "    val_loss = evaluate_model(model,val_songs,params)\n",
    "    experiment.log_metric(\"val_loss\", val_loss, step=global_iter)\n",
    "    print(f\"Validation Loss after epoch{epoch +1}:{val_loss:.4f}\")\n",
    "    scheduler.step(val_loss)\n",
    "    early_stopper.step(val_loss)\n",
    "\n",
    "    if early_stopper.early_stop:\n",
    "        print(\"Early stopping triggered!\")\n",
    "        break"
   ]
  },
  {
   "cell_type": "code",
   "execution_count": null,
   "metadata": {
    "execution": {
     "iopub.execute_input": "2025-04-15T07:03:14.560409Z",
     "iopub.status.busy": "2025-04-15T07:03:14.560111Z",
     "iopub.status.idle": "2025-04-15T07:03:16.064975Z",
     "shell.execute_reply": "2025-04-15T07:03:16.064406Z",
     "shell.execute_reply.started": "2025-04-15T07:03:14.560381Z"
    },
    "id": "5NVRC1nvMfMs",
    "trusted": true
   },
   "outputs": [],
   "source": [
    "\n",
    "torch.save(model.state_dict(),checkpoint_prefix)\n",
    "experiment.flush()\n",
    "experiment.end()"
   ]
  },
  {
   "cell_type": "code",
   "execution_count": 75,
   "metadata": {
    "execution": {
     "iopub.execute_input": "2025-04-15T07:03:21.695285Z",
     "iopub.status.busy": "2025-04-15T07:03:21.694993Z",
     "iopub.status.idle": "2025-04-15T07:03:21.701255Z",
     "shell.execute_reply": "2025-04-15T07:03:21.700277Z",
     "shell.execute_reply.started": "2025-04-15T07:03:21.695261Z"
    },
    "id": "wARsLuLBntnd",
    "trusted": true
   },
   "outputs": [],
   "source": [
    "def generate_text(model, start_string, generation_length=1000):\n",
    "\n",
    "  input_idx = [char2idx[s] for s in start_string] # TODO\n",
    "  input_idx = torch.tensor([input_idx], dtype=torch.long).to(device)\n",
    "\n",
    "  state = model.init_hidden(input_idx.size(0), device)\n",
    "\n",
    "  text_generated = []\n",
    "  tqdm._instances.clear()\n",
    "\n",
    "  for i in tqdm(range(generation_length)):\n",
    "\n",
    "    predictions, state = model(input_idx, state, return_state=True)\n",
    "\n",
    "\n",
    "    predictions = predictions.squeeze(0)\n",
    "\n",
    "    input_idx = torch.multinomial(torch.softmax(predictions, dim=-1), num_samples=1)\n",
    "\n",
    "    text_generated.append(idx2char[input_idx].item()) \n",
    "\n",
    "\n",
    "  return (start_string + ''.join(text_generated))\n",
    "\n",
    "\n",
    "\n",
    "\n"
   ]
  },
  {
   "cell_type": "code",
   "execution_count": 76,
   "metadata": {
    "execution": {
     "iopub.execute_input": "2025-04-15T07:03:29.835000Z",
     "iopub.status.busy": "2025-04-15T07:03:29.834449Z",
     "iopub.status.idle": "2025-04-15T07:03:31.035929Z",
     "shell.execute_reply": "2025-04-15T07:03:31.035292Z",
     "shell.execute_reply.started": "2025-04-15T07:03:29.834976Z"
    },
    "id": "uegt59qlrcA7",
    "trusted": true
   },
   "outputs": [
    {
     "name": "stderr",
     "output_type": "stream",
     "text": [
      "100%|██████████| 1500/1500 [00:01<00:00, 1271.48it/s]\n"
     ]
    }
   ],
   "source": [
    "generated_text = generate_text(model,start_string=\"X\",generation_length=1500)"
   ]
  },
  {
   "cell_type": "markdown",
   "metadata": {
    "id": "WpKI5SgqzzEP"
   },
   "source": []
  },
  {
   "cell_type": "code",
   "execution_count": null,
   "metadata": {
    "execution": {
     "iopub.status.busy": "2025-04-15T06:43:46.047440Z",
     "iopub.status.idle": "2025-04-15T06:43:46.047648Z",
     "shell.execute_reply": "2025-04-15T06:43:46.047556Z",
     "shell.execute_reply.started": "2025-04-15T06:43:46.047547Z"
    },
    "id": "oOKFj4pstz83",
    "trusted": true
   },
   "outputs": [],
   "source": [
    "print(generated_text)"
   ]
  },
  {
   "cell_type": "code",
   "execution_count": null,
   "metadata": {
    "execution": {
     "iopub.execute_input": "2025-04-15T07:03:35.001003Z",
     "iopub.status.busy": "2025-04-15T07:03:35.000617Z"
    },
    "id": "E42KPivf3SnV",
    "trusted": true
   },
   "outputs": [],
   "source": [
    "### Playing back generated song ###\n",
    "\n",
    "gen_song = mdl.lab1.extract_song_snippet(generated_text)\n",
    "\n",
    "\n",
    "for i , song in enumerate(gen_song) :\n",
    "  waveform =  mdl.lab1.play_song(song)\n",
    "  if waveform :\n",
    "    print(\"Generated Song \" , i)\n",
    "    ipythondisplay.display(waveform)\n",
    "    num_data = np.frombuffer(waveform.data,dtype=np.int16)\n",
    "    wav_file_path = f\"output_{i}.wav\"\n",
    "    write(wav_file_path,88200,num_data)\n",
    "    experiment.log_asset(wav_file_path)\n",
    "\n",
    "    \n",
    "\n",
    "\n"
   ]
  },
  {
   "cell_type": "code",
   "execution_count": null,
   "metadata": {
    "id": "WmX1NOzSZd35",
    "trusted": true
   },
   "outputs": [],
   "source": [
    "\n"
   ]
  }
 ],
 "metadata": {
  "accelerator": "GPU",
  "colab": {
   "gpuType": "T4",
   "provenance": []
  },
  "kaggle": {
   "accelerator": "gpu",
   "dataSources": [],
   "dockerImageVersionId": 31012,
   "isGpuEnabled": true,
   "isInternetEnabled": true,
   "language": "python",
   "sourceType": "notebook"
  },
  "kernelspec": {
   "display_name": "Python 3",
   "language": "python",
   "name": "python3"
  },
  "language_info": {
   "codemirror_mode": {
    "name": "ipython",
    "version": 3
   },
   "file_extension": ".py",
   "mimetype": "text/x-python",
   "name": "python",
   "nbconvert_exporter": "python",
   "pygments_lexer": "ipython3",
   "version": "3.11.11"
  }
 },
 "nbformat": 4,
 "nbformat_minor": 4
}
